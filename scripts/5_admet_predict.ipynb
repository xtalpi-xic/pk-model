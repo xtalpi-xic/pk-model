{
 "cells": [
  {
   "cell_type": "markdown",
   "id": "195b7ebe-14fa-4aff-9d41-6df560f5a243",
   "metadata": {},
   "source": [
    "# ADME PREDCT FUNCTION"
   ]
  },
  {
   "cell_type": "code",
   "execution_count": 12,
   "id": "253e79ef-5d74-414f-83d2-61ee3d81c780",
   "metadata": {
    "execution": {
     "iopub.execute_input": "2023-09-06T09:09:50.895061Z",
     "iopub.status.busy": "2023-09-06T09:09:50.894664Z",
     "iopub.status.idle": "2023-09-06T09:09:51.026555Z",
     "shell.execute_reply": "2023-09-06T09:09:51.025464Z",
     "shell.execute_reply.started": "2023-09-06T09:09:50.895042Z"
    },
    "tags": []
   },
   "outputs": [],
   "source": [
    "import pandas as pd\n",
    "from matplotlib import pyplot as plt\n",
    "from sklearn import metrics\n",
    "from loguru import logger\n",
    "import os\n",
    "import time\n",
    "import datetime\n",
    "DATASET_PATH=\"../dataset\"\n",
    "LOG_PATH=\"../logs/\"\n",
    "MODEL_PATH=\"../models/\"\n",
    "RESULT_PATH=\"../result/\"\n",
    "CHEMPROP_RESULT=\"../models/\"\n",
    "import sys\n",
    "sys.path.append(\"../chemprop\")\n",
    "sys.path.append(\"../qsprpred\")\n",
    "sys.path.append(\"../\")\n",
    "import chemprop\n",
    "#Save and load models\n",
    "import joblib\n",
    "import pickle\n",
    "#Metrics \n",
    "import sklearn.metrics as metrics\n",
    "from sklearn.feature_selection import mutual_info_regression\n",
    "\n",
    "pd.set_option('max_colwidth',200)\n",
    "pd.set_option('display.width',200)\n",
    "pd.set_option('display.max_columns',200)\n",
    "import time\n",
    "from loguru import logger\n",
    "import datetime\n",
    "import os,sys\n",
    "import time\n",
    "import pandas as pd\n",
    "from pathlib import Path\n",
    "project_path = Path.cwd().parent\n",
    "log_path = Path(project_path, \"log\")\n",
    "log_time = time.strftime(\"%Y_%m\")\n",
    "log_path=\"./logs\"\n",
    "if ~os.path.exists(log_path):\n",
    "    os.makedirs(log_path, exist_ok=True)\n",
    "logger.remove()\n",
    "logger.add(f'logs/nca2_{log_time}.log', format=\"{time:YYYY-MM-DD HH:mm:ss} | \"\n",
    "                               \"{file} | \"\n",
    "                               \"{process.name} | \"\n",
    "                               \"{thread.name} | \"\n",
    "                               \"{module}.{function}:{line} - {level} -{message}\",level=\"INFO\", enqueue=True,encoding=\"utf-8\", rotation=\"12:00\")\n",
    "logger.add(sys.stderr, format='{time:YYYY-MM-DD HH:mm:ss} | ' \n",
    "                                \"{file} | \"# \n",
    "                               \"{process.name} | \"  # 进程名\n",
    "                               \"{thread.name} | \"  # 进程名\n",
    "                               '{module}.{function}:{line} - {level} -{message}',level=\"INFO\", enqueue=True\n",
    ")\n",
    "DEBUG=True\n",
    "def get_cost_time(function):\n",
    "    \"\"\"\n",
    "    计算程序运行时间\n",
    "    :param function:\n",
    "    :return:\n",
    "    \"\"\"\n",
    "    def func(*args, **kwargs):\n",
    "        if DEBUG:\n",
    "            start_time = datetime.datetime.now()\n",
    "            result = function(*args, **kwargs)\n",
    "            end_time = datetime.datetime.now()\n",
    "            seconds = (end_time - start_time).seconds\n",
    "            start = start_time.strftime('%Y-%m-%d %H:%M')\n",
    "            minutes = seconds // 60\n",
    "            second = seconds % 60\n",
    "            timeStr = str(minutes) + '分钟' + str(second) + \"秒\"\n",
    "            logger.info('---function: %s，cost time:%s seconds---' %( function.__name__,timeStr))\n",
    "        else:\n",
    "            result = function(*args, **kwargs)\n",
    "        return result\n",
    "    return func\n",
    "class StopWatch:\n",
    "\n",
    "    def __init__(self):\n",
    "        self.start = datetime.datetime.now()\n",
    "\n",
    "    def reset(self):\n",
    "        self.start =  datetime.datetime.now()\n",
    "\n",
    "    def stop(self, msg='Time it took: '):\n",
    "        time_range =  datetime.datetime.now() - self.start\n",
    "        seconds = time_range.seconds\n",
    "        start_time = self.start.strftime('%Y-%m-%d %H:%M')\n",
    "        logger.info('---%s start from %s, total cost time:%s seconds---' %(msg,start_time,seconds))\n",
    "        self.reset()\n",
    "        return seconds\n",
    "now_time = datetime.datetime.now()\n",
    "data_str = now_time.strftime('%Y_%m_%d_%H_%M')\n",
    "import os\n",
    "from typing import List\n",
    "def get_feature_param(data_name):\n",
    "    config_json=CHEMPROP_RESULT+\"%s/args.json\"%data_name\n",
    "    feature_param=\"\"\n",
    "    import json\n",
    "    logger.info(\"json:%s\"%config_json)\n",
    "    with open(config_json, 'r') as f:\n",
    "        json_config = json.loads(f.read())\n",
    "        print(json_config['features_generator'])\n",
    "        if not json_config['features_generator'] is None:\n",
    "            print(json_config)\n",
    "            print(json_config['features_generator'][0])\n",
    "            feature_param=json_config['features_generator'][0]\n",
    "        else:\n",
    "            print(json_config['features_generator'] is None)\n",
    "    return feature_param\n",
    "def read_file(file_path):\n",
    "    # 获取文件扩展名\n",
    "    file_extension = os.path.splitext(file_path)[1]\n",
    "\n",
    "    # 读取 Excel 文件\n",
    "    if file_extension == '.xlsx' or file_extension == '.xls':\n",
    "        df = pd.read_excel(file_path, engine='openpyxl')\n",
    "\n",
    "    # 读取 CSV 文件\n",
    "    elif file_extension == '.csv':\n",
    "        df = pd.read_csv(file_path)\n",
    "\n",
    "    else:\n",
    "        raise ValueError(f\"Unsupported file type: {file_extension}\")\n",
    "\n",
    "    return df\n",
    "def predict(data_name,smiles_column,test_file,feature_param=None):\n",
    "    arguments = [\n",
    "        '--test_path', test_file,\n",
    "        '--preds_path', 'preds/test_preds_%s_%s.csv'%(data_name,data_str),\n",
    "        '--smiles_column',smiles_column,\n",
    "        # '--gpu','1', # if gpu set it \n",
    "        '--checkpoint_dir', CHEMPROP_RESULT+data_name\n",
    "    ]\n",
    "    if feature_param==\"morgan\":\n",
    "        arguments.extend(['--features_generator','morgan'])\n",
    "    elif feature_param==\"rdkit_2d_normalized\":\n",
    "        arguments.extend([ '--no_features_scaling', '--features_generator','rdkit_2d_normalized'])\n",
    "\n",
    "    # logger.info(arguments)\n",
    "    args = chemprop.args.PredictArgs().parse_args(arguments)\n",
    "    preds = chemprop.train.make_predictions(args=args)\n",
    "\n",
    "    df = pd.read_csv(test_file)\n",
    "    print(test_file)\n",
    "    df['preds'] = [x[0] for x in preds]\n",
    "\n",
    "    logger.info(df)\n",
    "    # df.reset_index(inplace=True)\n",
    "    # df = df.drop(columns=df.filter(regex='Unnamed').columns)\n",
    "   \n",
    " \n",
    "    return df\n",
    "def get_predict_result(test_data_path,smiles_column,data_name,feature_param):\n",
    "# fup_log10fup_log10_pred_result_2023_06_08_20_20.csv\n",
    "\n",
    "    result =predict(data_name,smiles_column,test_data_path,feature_param)\n",
    "\n",
    "    print(result)\n",
    "    return result \n",
    "\n",
    "def predict_pk(test_data_path,exp_name,data_name,smiles_column=\"SMILES\"):\n",
    "    feature_param = get_feature_param(data_name)\n",
    "    df_result = get_predict_result(\n",
    "        test_data_path, smiles_column, data_name, feature_param\n",
    "    )\n",
    "   \n",
    "    print(test_data_path)\n",
    "    if exp_name!=\"caco2\":\n",
    "        df_result[exp_name+\"_preds\"] = df_result[\"preds\"].apply(lambda x: (10**x))\n",
    "    elif exp_name!=\"cl\":\n",
    "        df_result[exp_name+\"_preds\"] = df_result[\"preds\"].apply(lambda x: (10**x)/ 1000 * 60) \n",
    "    else:\n",
    "        df_result[exp_name+\"_preds\"] = df_result[\"preds\"].apply(lambda x: (10**6) * (10**x))\n",
    "    df_result=df_result.drop(columns=[\"preds\"])\n",
    "  \n",
    "    return df_result\n"
   ]
  },
  {
   "cell_type": "markdown",
   "id": "ebb1cef9-2844-4d4f-8ceb-2abb2de2dad9",
   "metadata": {},
   "source": [
    "# RUN ADME PREDICT"
   ]
  },
  {
   "cell_type": "code",
   "execution_count": 11,
   "id": "933799a2-e533-4522-a9c3-79f8d7dc9fa0",
   "metadata": {
    "execution": {
     "iopub.execute_input": "2023-09-06T09:09:55.417330Z",
     "iopub.status.busy": "2023-09-06T09:09:55.416784Z",
     "iopub.status.idle": "2023-09-06T09:10:09.327205Z",
     "shell.execute_reply": "2023-09-06T09:10:09.326296Z",
     "shell.execute_reply.started": "2023-09-06T09:09:55.417294Z"
    },
    "tags": []
   },
   "outputs": [
    {
     "name": "stderr",
     "output_type": "stream",
     "text": [
      "2024-01-06 22:37:08 | 3006981774.py | MainProcess | MainThread | 3006981774.<module>:3 - INFO -(139, 2)\n",
      "2024-01-06 22:37:08 | 3006981774.py | MainProcess | MainThread | 3006981774.<module>:4 - INFO -Index(['Drug', 'SMILES'], dtype='object')\n",
      "2024-01-06 22:37:08 | 797016409.py | MainProcess | MainThread | 797016409.get_feature_param:36 - INFO -json:../models/cl_1215_log10_32__2023_07_08_22_52/args.json\n"
     ]
    },
    {
     "name": "stdout",
     "output_type": "stream",
     "text": [
      "            Drug                                                                 SMILES\n",
      "0      Abanoquil                          COc1cc2CCN(Cc2cc1OC)c3cc(N)c4cc(OC)c(OC)cc4n3\n",
      "1     Adinazolam                              CN(C)Cc1nnc2CN=C(c3ccccc3)c4cc(Cl)ccc4n12\n",
      "2       AFN-1252                      Cc1c2ccccc2oc1CN(C)C(=O)/C=C/c3cc4c(nc3)NC(=O)CC4\n",
      "3   AG-EE-388 ZW         C(c1c(cc(cc1)CC(=O)N[C@@H](CC(C)C)c1c(cccc1)N1CCCCC1)OCC)(=O)O\n",
      "4       Ajmaline  CC[C@@H]1[C@H](N2[C@H]3CC1C4[C@@H]2CC5([C@H]3N(c6c5cccc6)C)[C@@H]4O)O\n",
      "5      Alectinib      CCc1cc2c(cc1N3CCC(CC3)N4CCOCC4)C(c5c(c6ccc(cc6[nH]5)C#N)C2=O)(C)C\n",
      "6     Alprenolol                                              CC(C)NCC(O)COc1ccccc1CC=C\n",
      "7  Amitriptyline                                         CN(C)CCC=C1c2ccccc2CCc3ccccc13\n",
      "8      Amonafide                                c12c3C(N(CCN(C)C)C(c1cccc2cc(c3)N)=O)=O\n",
      "9        Amsalog               CNC(=O)c1cccc2c(Nc3ccc(NS(=O)(=O)C)cc3OC)c4cccc(C)c4nc12\n",
      "======target : cl, best model: cl_1215_log10_32__2023_07_08_22_52===========\n",
      "None\n",
      "True\n",
      "Loading training args\n",
      "Setting molecule featurization parameters to default.\n",
      "Loading data\n"
     ]
    },
    {
     "name": "stderr",
     "output_type": "stream",
     "text": [
      "139it [00:00, 120880.83it/s]\n",
      "100%|██████████| 139/139 [00:00<00:00, 135520.28it/s]"
     ]
    },
    {
     "name": "stdout",
     "output_type": "stream",
     "text": [
      "Validating SMILES\n"
     ]
    },
    {
     "name": "stderr",
     "output_type": "stream",
     "text": [
      "\n"
     ]
    },
    {
     "name": "stdout",
     "output_type": "stream",
     "text": [
      "Test size = 139\n"
     ]
    },
    {
     "name": "stderr",
     "output_type": "stream",
     "text": [
      "  0%|          | 0/5 [00:00<?, ?it/s]"
     ]
    },
    {
     "name": "stdout",
     "output_type": "stream",
     "text": [
      "Loading pretrained parameter \"encoder.encoder.0.cached_zero_vector\".\n",
      "Loading pretrained parameter \"encoder.encoder.0.W_i.weight\".\n",
      "Loading pretrained parameter \"encoder.encoder.0.W_h.weight\".\n",
      "Loading pretrained parameter \"encoder.encoder.0.W_o.weight\".\n",
      "Loading pretrained parameter \"encoder.encoder.0.W_o.bias\".\n",
      "Loading pretrained parameter \"readout.1.weight\".\n",
      "Loading pretrained parameter \"readout.1.bias\".\n",
      "Loading pretrained parameter \"readout.4.weight\".\n",
      "Loading pretrained parameter \"readout.4.bias\".\n"
     ]
    },
    {
     "name": "stderr",
     "output_type": "stream",
     "text": [
      " 20%|██        | 1/5 [00:22<01:28, 22.07s/it]"
     ]
    },
    {
     "name": "stdout",
     "output_type": "stream",
     "text": [
      "Loading pretrained parameter \"encoder.encoder.0.cached_zero_vector\".\n",
      "Loading pretrained parameter \"encoder.encoder.0.W_i.weight\".\n",
      "Loading pretrained parameter \"encoder.encoder.0.W_h.weight\".\n",
      "Loading pretrained parameter \"encoder.encoder.0.W_o.weight\".\n",
      "Loading pretrained parameter \"encoder.encoder.0.W_o.bias\".\n",
      "Loading pretrained parameter \"readout.1.weight\".\n",
      "Loading pretrained parameter \"readout.1.bias\".\n",
      "Loading pretrained parameter \"readout.4.weight\".\n",
      "Loading pretrained parameter \"readout.4.bias\".\n"
     ]
    },
    {
     "name": "stderr",
     "output_type": "stream",
     "text": [
      " 40%|████      | 2/5 [00:42<01:02, 20.89s/it]"
     ]
    },
    {
     "name": "stdout",
     "output_type": "stream",
     "text": [
      "Loading pretrained parameter \"encoder.encoder.0.cached_zero_vector\".\n",
      "Loading pretrained parameter \"encoder.encoder.0.W_i.weight\".\n",
      "Loading pretrained parameter \"encoder.encoder.0.W_h.weight\".\n",
      "Loading pretrained parameter \"encoder.encoder.0.W_o.weight\".\n",
      "Loading pretrained parameter \"encoder.encoder.0.W_o.bias\".\n",
      "Loading pretrained parameter \"readout.1.weight\".\n",
      "Loading pretrained parameter \"readout.1.bias\".\n",
      "Loading pretrained parameter \"readout.4.weight\".\n",
      "Loading pretrained parameter \"readout.4.bias\".\n"
     ]
    },
    {
     "name": "stderr",
     "output_type": "stream",
     "text": [
      " 60%|██████    | 3/5 [01:02<00:41, 20.59s/it]"
     ]
    },
    {
     "name": "stdout",
     "output_type": "stream",
     "text": [
      "Loading pretrained parameter \"encoder.encoder.0.cached_zero_vector\".\n",
      "Loading pretrained parameter \"encoder.encoder.0.W_i.weight\".\n",
      "Loading pretrained parameter \"encoder.encoder.0.W_h.weight\".\n",
      "Loading pretrained parameter \"encoder.encoder.0.W_o.weight\".\n",
      "Loading pretrained parameter \"encoder.encoder.0.W_o.bias\".\n",
      "Loading pretrained parameter \"readout.1.weight\".\n",
      "Loading pretrained parameter \"readout.1.bias\".\n",
      "Loading pretrained parameter \"readout.4.weight\".\n",
      "Loading pretrained parameter \"readout.4.bias\".\n"
     ]
    },
    {
     "name": "stderr",
     "output_type": "stream",
     "text": [
      " 80%|████████  | 4/5 [01:22<00:20, 20.24s/it]"
     ]
    },
    {
     "name": "stdout",
     "output_type": "stream",
     "text": [
      "Loading pretrained parameter \"encoder.encoder.0.cached_zero_vector\".\n",
      "Loading pretrained parameter \"encoder.encoder.0.W_i.weight\".\n",
      "Loading pretrained parameter \"encoder.encoder.0.W_h.weight\".\n",
      "Loading pretrained parameter \"encoder.encoder.0.W_o.weight\".\n",
      "Loading pretrained parameter \"encoder.encoder.0.W_o.bias\".\n",
      "Loading pretrained parameter \"readout.1.weight\".\n",
      "Loading pretrained parameter \"readout.1.bias\".\n",
      "Loading pretrained parameter \"readout.4.weight\".\n",
      "Loading pretrained parameter \"readout.4.bias\".\n"
     ]
    },
    {
     "name": "stderr",
     "output_type": "stream",
     "text": [
      "100%|██████████| 5/5 [01:41<00:00, 20.38s/it]\n",
      "2024-01-06 22:38:51 | 797016409.py | MainProcess | MainThread | 797016409.predict:84 - INFO -             Drug                                                                                          SMILES     preds\n",
      "0       Abanoquil                                                   COc1cc2CCN(Cc2cc1OC)c3cc(N)c4cc(OC)c(OC)cc4n3  0.783244\n",
      "1      Adinazolam                                                       CN(C)Cc1nnc2CN=C(c3ccccc3)c4cc(Cl)ccc4n12  0.765561\n",
      "2        AFN-1252                                               Cc1c2ccccc2oc1CN(C)C(=O)/C=C/c3cc4c(nc3)NC(=O)CC4  0.398321\n",
      "3    AG-EE-388 ZW                                  C(c1c(cc(cc1)CC(=O)N[C@@H](CC(C)C)c1c(cccc1)N1CCCCC1)OCC)(=O)O  0.468724\n",
      "4        Ajmaline                           CC[C@@H]1[C@H](N2[C@H]3CC1C4[C@@H]2CC5([C@H]3N(c6c5cccc6)C)[C@@H]4O)O  1.019399\n",
      "..            ...                                                                                             ...       ...\n",
      "134     Verlukast                                  CN(C)C(=O)CCS[C@H](SCCC(=O)O)c1cccc(\\C=C\\c2ccc3ccc(Cl)cc3n2)c1  0.480630\n",
      "135    Volasertib  C(=O)(c1cc(c(cc1)Nc1nc2c(cn1)N(C(=O)[C@H](N2C(C)C)CC)C)OC)N[C@H]1CC[C@@H](CC1)N1CCN(CC1)CC1CC1  0.927795\n",
      "136   Zatebradine                                              CN(CCCN1CCc2cc(c(cc2CC1=O)OC)OC)CCc3ccc(c(c3)OC)OC  0.879577\n",
      "137    Zimelidine                                                             C(\\c1ccc(Br)cc1)(c1cccnc1)=C\\CN(C)C  0.886422\n",
      "138   Ziprasidone                                                    Clc1cc2NC(=O)Cc2cc1CCN3CCN(CC3)c4nsc5ccccc45  0.669432\n",
      "\n",
      "[139 rows x 3 columns]\n",
      "2024-01-06 22:38:51 | 3006981774.py | MainProcess | MainThread | 3006981774.<module>:21 - INFO -        Drug                                         SMILES  cl_preds\n",
      "0  Abanoquil  COc1cc2CCN(Cc2cc1OC)c3cc(N)c4cc(OC)c(OC)cc4n3  6.070773\n",
      "2024-01-06 22:38:51 | 3006981774.py | MainProcess | MainThread | 3006981774.<module>:26 - INFO -           Drug                                                                 SMILES   cl_preds\n",
      "0     Abanoquil                          COc1cc2CCN(Cc2cc1OC)c3cc(N)c4cc(OC)c(OC)cc4n3   6.070773\n",
      "1    Adinazolam                              CN(C)Cc1nnc2CN=C(c3ccccc3)c4cc(Cl)ccc4n12   5.828556\n",
      "2      AFN-1252                      Cc1c2ccccc2oc1CN(C)C(=O)/C=C/c3cc4c(nc3)NC(=O)CC4   2.502197\n",
      "3  AG-EE-388 ZW         C(c1c(cc(cc1)CC(=O)N[C@@H](CC(C)C)c1c(cccc1)N1CCCCC1)OCC)(=O)O   2.942554\n",
      "4      Ajmaline  CC[C@@H]1[C@H](N2[C@H]3CC1C4[C@@H]2CC5([C@H]3N(c6c5cccc6)C)[C@@H]4O)O  10.456816\n",
      "2024-01-06 22:38:51 | 797016409.py | MainProcess | MainThread | 797016409.get_feature_param:36 - INFO -json:../models/fu_log10_32_ori__2023_06_20_15_46/args.json\n"
     ]
    },
    {
     "name": "stdout",
     "output_type": "stream",
     "text": [
      "Saving predictions to preds/test_preds_cl_1215_log10_32__2023_07_08_22_52_2024_01_06_22_37.csv\n",
      "Elapsed time = 0:01:43\n",
      "../dataset/PK_molecule_smiles.csv\n",
      "             Drug                                                                                          SMILES     preds\n",
      "0       Abanoquil                                                   COc1cc2CCN(Cc2cc1OC)c3cc(N)c4cc(OC)c(OC)cc4n3  0.783244\n",
      "1      Adinazolam                                                       CN(C)Cc1nnc2CN=C(c3ccccc3)c4cc(Cl)ccc4n12  0.765561\n",
      "2        AFN-1252                                               Cc1c2ccccc2oc1CN(C)C(=O)/C=C/c3cc4c(nc3)NC(=O)CC4  0.398321\n",
      "3    AG-EE-388 ZW                                  C(c1c(cc(cc1)CC(=O)N[C@@H](CC(C)C)c1c(cccc1)N1CCCCC1)OCC)(=O)O  0.468724\n",
      "4        Ajmaline                           CC[C@@H]1[C@H](N2[C@H]3CC1C4[C@@H]2CC5([C@H]3N(c6c5cccc6)C)[C@@H]4O)O  1.019399\n",
      "..            ...                                                                                             ...       ...\n",
      "134     Verlukast                                  CN(C)C(=O)CCS[C@H](SCCC(=O)O)c1cccc(\\C=C\\c2ccc3ccc(Cl)cc3n2)c1  0.480630\n",
      "135    Volasertib  C(=O)(c1cc(c(cc1)Nc1nc2c(cn1)N(C(=O)[C@H](N2C(C)C)CC)C)OC)N[C@H]1CC[C@@H](CC1)N1CCN(CC1)CC1CC1  0.927795\n",
      "136   Zatebradine                                              CN(CCCN1CCc2cc(c(cc2CC1=O)OC)OC)CCc3ccc(c(c3)OC)OC  0.879577\n",
      "137    Zimelidine                                                             C(\\c1ccc(Br)cc1)(c1cccnc1)=C\\CN(C)C  0.886422\n",
      "138   Ziprasidone                                                    Clc1cc2NC(=O)Cc2cc1CCN3CCN(CC3)c4nsc5ccccc45  0.669432\n",
      "\n",
      "[139 rows x 3 columns]\n",
      "../dataset/PK_molecule_smiles.csv\n",
      "======target : fu, best model: fu_log10_32_ori__2023_06_20_15_46===========\n",
      "None\n",
      "True\n",
      "Loading training args\n",
      "Setting molecule featurization parameters to default.\n",
      "Loading data\n"
     ]
    },
    {
     "name": "stderr",
     "output_type": "stream",
     "text": [
      "139it [00:00, 131902.32it/s]\n",
      "100%|██████████| 139/139 [00:00<00:00, 141301.08it/s]\n"
     ]
    },
    {
     "name": "stdout",
     "output_type": "stream",
     "text": [
      "Validating SMILES\n",
      "Test size = 139\n"
     ]
    },
    {
     "name": "stderr",
     "output_type": "stream",
     "text": [
      "  0%|          | 0/5 [00:00<?, ?it/s]"
     ]
    },
    {
     "name": "stdout",
     "output_type": "stream",
     "text": [
      "Loading pretrained parameter \"encoder.encoder.0.cached_zero_vector\".\n",
      "Loading pretrained parameter \"encoder.encoder.0.W_i.weight\".\n",
      "Loading pretrained parameter \"encoder.encoder.0.W_h.weight\".\n",
      "Loading pretrained parameter \"encoder.encoder.0.W_o.weight\".\n",
      "Loading pretrained parameter \"encoder.encoder.0.W_o.bias\".\n",
      "Loading pretrained parameter \"readout.1.weight\".\n",
      "Loading pretrained parameter \"readout.1.bias\".\n",
      "Loading pretrained parameter \"readout.4.weight\".\n",
      "Loading pretrained parameter \"readout.4.bias\".\n"
     ]
    },
    {
     "name": "stderr",
     "output_type": "stream",
     "text": [
      " 20%|██        | 1/5 [00:20<01:20, 20.13s/it]"
     ]
    },
    {
     "name": "stdout",
     "output_type": "stream",
     "text": [
      "Loading pretrained parameter \"encoder.encoder.0.cached_zero_vector\".\n",
      "Loading pretrained parameter \"encoder.encoder.0.W_i.weight\".\n",
      "Loading pretrained parameter \"encoder.encoder.0.W_h.weight\".\n",
      "Loading pretrained parameter \"encoder.encoder.0.W_o.weight\".\n",
      "Loading pretrained parameter \"encoder.encoder.0.W_o.bias\".\n",
      "Loading pretrained parameter \"readout.1.weight\".\n",
      "Loading pretrained parameter \"readout.1.bias\".\n",
      "Loading pretrained parameter \"readout.4.weight\".\n",
      "Loading pretrained parameter \"readout.4.bias\".\n"
     ]
    },
    {
     "name": "stderr",
     "output_type": "stream",
     "text": [
      " 40%|████      | 2/5 [00:39<00:59, 19.94s/it]"
     ]
    },
    {
     "name": "stdout",
     "output_type": "stream",
     "text": [
      "Loading pretrained parameter \"encoder.encoder.0.cached_zero_vector\".\n",
      "Loading pretrained parameter \"encoder.encoder.0.W_i.weight\".\n",
      "Loading pretrained parameter \"encoder.encoder.0.W_h.weight\".\n",
      "Loading pretrained parameter \"encoder.encoder.0.W_o.weight\".\n",
      "Loading pretrained parameter \"encoder.encoder.0.W_o.bias\".\n",
      "Loading pretrained parameter \"readout.1.weight\".\n",
      "Loading pretrained parameter \"readout.1.bias\".\n",
      "Loading pretrained parameter \"readout.4.weight\".\n",
      "Loading pretrained parameter \"readout.4.bias\".\n"
     ]
    },
    {
     "name": "stderr",
     "output_type": "stream",
     "text": [
      " 60%|██████    | 3/5 [01:00<00:40, 20.04s/it]"
     ]
    },
    {
     "name": "stdout",
     "output_type": "stream",
     "text": [
      "Loading pretrained parameter \"encoder.encoder.0.cached_zero_vector\".\n",
      "Loading pretrained parameter \"encoder.encoder.0.W_i.weight\".\n",
      "Loading pretrained parameter \"encoder.encoder.0.W_h.weight\".\n",
      "Loading pretrained parameter \"encoder.encoder.0.W_o.weight\".\n",
      "Loading pretrained parameter \"encoder.encoder.0.W_o.bias\".\n",
      "Loading pretrained parameter \"readout.1.weight\".\n",
      "Loading pretrained parameter \"readout.1.bias\".\n",
      "Loading pretrained parameter \"readout.4.weight\".\n",
      "Loading pretrained parameter \"readout.4.bias\".\n"
     ]
    },
    {
     "name": "stderr",
     "output_type": "stream",
     "text": [
      " 80%|████████  | 4/5 [01:20<00:20, 20.05s/it]"
     ]
    },
    {
     "name": "stdout",
     "output_type": "stream",
     "text": [
      "Loading pretrained parameter \"encoder.encoder.0.cached_zero_vector\".\n",
      "Loading pretrained parameter \"encoder.encoder.0.W_i.weight\".\n",
      "Loading pretrained parameter \"encoder.encoder.0.W_h.weight\".\n",
      "Loading pretrained parameter \"encoder.encoder.0.W_o.weight\".\n",
      "Loading pretrained parameter \"encoder.encoder.0.W_o.bias\".\n",
      "Loading pretrained parameter \"readout.1.weight\".\n",
      "Loading pretrained parameter \"readout.1.bias\".\n",
      "Loading pretrained parameter \"readout.4.weight\".\n",
      "Loading pretrained parameter \"readout.4.bias\".\n"
     ]
    },
    {
     "name": "stderr",
     "output_type": "stream",
     "text": [
      "100%|██████████| 5/5 [01:40<00:00, 20.04s/it]\n",
      "2024-01-06 22:40:32 | 797016409.py | MainProcess | MainThread | 797016409.predict:84 - INFO -             Drug                                                                                          SMILES     preds\n",
      "0       Abanoquil                                                   COc1cc2CCN(Cc2cc1OC)c3cc(N)c4cc(OC)c(OC)cc4n3 -1.279553\n",
      "1      Adinazolam                                                       CN(C)Cc1nnc2CN=C(c3ccccc3)c4cc(Cl)ccc4n12 -0.548360\n",
      "2        AFN-1252                                               Cc1c2ccccc2oc1CN(C)C(=O)/C=C/c3cc4c(nc3)NC(=O)CC4 -1.134886\n",
      "3    AG-EE-388 ZW                                  C(c1c(cc(cc1)CC(=O)N[C@@H](CC(C)C)c1c(cccc1)N1CCCCC1)OCC)(=O)O -1.480170\n",
      "4        Ajmaline                           CC[C@@H]1[C@H](N2[C@H]3CC1C4[C@@H]2CC5([C@H]3N(c6c5cccc6)C)[C@@H]4O)O -0.956596\n",
      "..            ...                                                                                             ...       ...\n",
      "134     Verlukast                                  CN(C)C(=O)CCS[C@H](SCCC(=O)O)c1cccc(\\C=C\\c2ccc3ccc(Cl)cc3n2)c1 -1.730645\n",
      "135    Volasertib  C(=O)(c1cc(c(cc1)Nc1nc2c(cn1)N(C(=O)[C@H](N2C(C)C)CC)C)OC)N[C@H]1CC[C@@H](CC1)N1CCN(CC1)CC1CC1 -1.066814\n",
      "136   Zatebradine                                              CN(CCCN1CCc2cc(c(cc2CC1=O)OC)OC)CCc3ccc(c(c3)OC)OC -0.520048\n",
      "137    Zimelidine                                                             C(\\c1ccc(Br)cc1)(c1cccnc1)=C\\CN(C)C -0.638445\n",
      "138   Ziprasidone                                                    Clc1cc2NC(=O)Cc2cc1CCN3CCN(CC3)c4nsc5ccccc45 -1.765636\n",
      "\n",
      "[139 rows x 3 columns]\n",
      "2024-01-06 22:40:32 | 3006981774.py | MainProcess | MainThread | 3006981774.<module>:21 - INFO -        Drug                                         SMILES  fu_preds\n",
      "0  Abanoquil  COc1cc2CCN(Cc2cc1OC)c3cc(N)c4cc(OC)c(OC)cc4n3  0.052535\n",
      "2024-01-06 22:40:32 | 3006981774.py | MainProcess | MainThread | 3006981774.<module>:26 - INFO -           Drug                                                                 SMILES   cl_preds  fu_preds\n",
      "0     Abanoquil                          COc1cc2CCN(Cc2cc1OC)c3cc(N)c4cc(OC)c(OC)cc4n3   6.070773  0.052535\n",
      "1    Adinazolam                              CN(C)Cc1nnc2CN=C(c3ccccc3)c4cc(Cl)ccc4n12   5.828556  0.282905\n",
      "2      AFN-1252                      Cc1c2ccccc2oc1CN(C)C(=O)/C=C/c3cc4c(nc3)NC(=O)CC4   2.502197  0.073302\n",
      "3  AG-EE-388 ZW         C(c1c(cc(cc1)CC(=O)N[C@@H](CC(C)C)c1c(cccc1)N1CCCCC1)OCC)(=O)O   2.942554  0.033100\n",
      "4      Ajmaline  CC[C@@H]1[C@H](N2[C@H]3CC1C4[C@@H]2CC5([C@H]3N(c6c5cccc6)C)[C@@H]4O)O  10.456816  0.110511\n",
      "2024-01-06 22:40:32 | 797016409.py | MainProcess | MainThread | 797016409.get_feature_param:36 - INFO -json:../models/caco2_log10_2023_06_10_22_01/args.json\n"
     ]
    },
    {
     "name": "stdout",
     "output_type": "stream",
     "text": [
      "Saving predictions to preds/test_preds_fu_log10_32_ori__2023_06_20_15_46_2024_01_06_22_37.csv\n",
      "Elapsed time = 0:01:40\n",
      "../dataset/PK_molecule_smiles.csv\n",
      "             Drug                                                                                          SMILES     preds\n",
      "0       Abanoquil                                                   COc1cc2CCN(Cc2cc1OC)c3cc(N)c4cc(OC)c(OC)cc4n3 -1.279553\n",
      "1      Adinazolam                                                       CN(C)Cc1nnc2CN=C(c3ccccc3)c4cc(Cl)ccc4n12 -0.548360\n",
      "2        AFN-1252                                               Cc1c2ccccc2oc1CN(C)C(=O)/C=C/c3cc4c(nc3)NC(=O)CC4 -1.134886\n",
      "3    AG-EE-388 ZW                                  C(c1c(cc(cc1)CC(=O)N[C@@H](CC(C)C)c1c(cccc1)N1CCCCC1)OCC)(=O)O -1.480170\n",
      "4        Ajmaline                           CC[C@@H]1[C@H](N2[C@H]3CC1C4[C@@H]2CC5([C@H]3N(c6c5cccc6)C)[C@@H]4O)O -0.956596\n",
      "..            ...                                                                                             ...       ...\n",
      "134     Verlukast                                  CN(C)C(=O)CCS[C@H](SCCC(=O)O)c1cccc(\\C=C\\c2ccc3ccc(Cl)cc3n2)c1 -1.730645\n",
      "135    Volasertib  C(=O)(c1cc(c(cc1)Nc1nc2c(cn1)N(C(=O)[C@H](N2C(C)C)CC)C)OC)N[C@H]1CC[C@@H](CC1)N1CCN(CC1)CC1CC1 -1.066814\n",
      "136   Zatebradine                                              CN(CCCN1CCc2cc(c(cc2CC1=O)OC)OC)CCc3ccc(c(c3)OC)OC -0.520048\n",
      "137    Zimelidine                                                             C(\\c1ccc(Br)cc1)(c1cccnc1)=C\\CN(C)C -0.638445\n",
      "138   Ziprasidone                                                    Clc1cc2NC(=O)Cc2cc1CCN3CCN(CC3)c4nsc5ccccc45 -1.765636\n",
      "\n",
      "[139 rows x 3 columns]\n",
      "../dataset/PK_molecule_smiles.csv\n",
      "======target : caco2, best model: caco2_log10_2023_06_10_22_01===========\n",
      "None\n",
      "True\n",
      "Loading training args\n",
      "Setting molecule featurization parameters to default.\n",
      "Loading data\n"
     ]
    },
    {
     "name": "stderr",
     "output_type": "stream",
     "text": [
      "139it [00:00, 158512.30it/s]\n",
      "100%|██████████| 139/139 [00:00<00:00, 154931.77it/s]\n"
     ]
    },
    {
     "name": "stdout",
     "output_type": "stream",
     "text": [
      "Validating SMILES\n",
      "Test size = 139\n"
     ]
    },
    {
     "name": "stderr",
     "output_type": "stream",
     "text": [
      "  0%|          | 0/5 [00:00<?, ?it/s]"
     ]
    },
    {
     "name": "stdout",
     "output_type": "stream",
     "text": [
      "Loading pretrained parameter \"encoder.encoder.0.cached_zero_vector\".\n",
      "Loading pretrained parameter \"encoder.encoder.0.W_i.weight\".\n",
      "Loading pretrained parameter \"encoder.encoder.0.W_h.weight\".\n",
      "Loading pretrained parameter \"encoder.encoder.0.W_o.weight\".\n",
      "Loading pretrained parameter \"encoder.encoder.0.W_o.bias\".\n",
      "Loading pretrained parameter \"readout.1.weight\".\n",
      "Loading pretrained parameter \"readout.1.bias\".\n",
      "Loading pretrained parameter \"readout.4.weight\".\n",
      "Loading pretrained parameter \"readout.4.bias\".\n"
     ]
    },
    {
     "name": "stderr",
     "output_type": "stream",
     "text": [
      " 20%|██        | 1/5 [00:19<01:19, 19.97s/it]"
     ]
    },
    {
     "name": "stdout",
     "output_type": "stream",
     "text": [
      "Loading pretrained parameter \"encoder.encoder.0.cached_zero_vector\".\n",
      "Loading pretrained parameter \"encoder.encoder.0.W_i.weight\".\n",
      "Loading pretrained parameter \"encoder.encoder.0.W_h.weight\".\n",
      "Loading pretrained parameter \"encoder.encoder.0.W_o.weight\".\n",
      "Loading pretrained parameter \"encoder.encoder.0.W_o.bias\".\n",
      "Loading pretrained parameter \"readout.1.weight\".\n",
      "Loading pretrained parameter \"readout.1.bias\".\n",
      "Loading pretrained parameter \"readout.4.weight\".\n",
      "Loading pretrained parameter \"readout.4.bias\".\n"
     ]
    },
    {
     "name": "stderr",
     "output_type": "stream",
     "text": [
      " 40%|████      | 2/5 [00:40<01:00, 20.06s/it]"
     ]
    },
    {
     "name": "stdout",
     "output_type": "stream",
     "text": [
      "Loading pretrained parameter \"encoder.encoder.0.cached_zero_vector\".\n",
      "Loading pretrained parameter \"encoder.encoder.0.W_i.weight\".\n",
      "Loading pretrained parameter \"encoder.encoder.0.W_h.weight\".\n",
      "Loading pretrained parameter \"encoder.encoder.0.W_o.weight\".\n",
      "Loading pretrained parameter \"encoder.encoder.0.W_o.bias\".\n",
      "Loading pretrained parameter \"readout.1.weight\".\n",
      "Loading pretrained parameter \"readout.1.bias\".\n",
      "Loading pretrained parameter \"readout.4.weight\".\n",
      "Loading pretrained parameter \"readout.4.bias\".\n"
     ]
    },
    {
     "name": "stderr",
     "output_type": "stream",
     "text": [
      " 60%|██████    | 3/5 [01:00<00:40, 20.06s/it]"
     ]
    },
    {
     "name": "stdout",
     "output_type": "stream",
     "text": [
      "Loading pretrained parameter \"encoder.encoder.0.cached_zero_vector\".\n",
      "Loading pretrained parameter \"encoder.encoder.0.W_i.weight\".\n",
      "Loading pretrained parameter \"encoder.encoder.0.W_h.weight\".\n",
      "Loading pretrained parameter \"encoder.encoder.0.W_o.weight\".\n",
      "Loading pretrained parameter \"encoder.encoder.0.W_o.bias\".\n",
      "Loading pretrained parameter \"readout.1.weight\".\n",
      "Loading pretrained parameter \"readout.1.bias\".\n",
      "Loading pretrained parameter \"readout.4.weight\".\n",
      "Loading pretrained parameter \"readout.4.bias\".\n"
     ]
    },
    {
     "name": "stderr",
     "output_type": "stream",
     "text": [
      " 80%|████████  | 4/5 [01:19<00:19, 19.97s/it]"
     ]
    },
    {
     "name": "stdout",
     "output_type": "stream",
     "text": [
      "Loading pretrained parameter \"encoder.encoder.0.cached_zero_vector\".\n",
      "Loading pretrained parameter \"encoder.encoder.0.W_i.weight\".\n",
      "Loading pretrained parameter \"encoder.encoder.0.W_h.weight\".\n",
      "Loading pretrained parameter \"encoder.encoder.0.W_o.weight\".\n",
      "Loading pretrained parameter \"encoder.encoder.0.W_o.bias\".\n",
      "Loading pretrained parameter \"readout.1.weight\".\n",
      "Loading pretrained parameter \"readout.1.bias\".\n",
      "Loading pretrained parameter \"readout.4.weight\".\n",
      "Loading pretrained parameter \"readout.4.bias\".\n"
     ]
    },
    {
     "name": "stderr",
     "output_type": "stream",
     "text": [
      "100%|██████████| 5/5 [01:40<00:00, 20.05s/it]\n",
      "2024-01-06 22:42:13 | 797016409.py | MainProcess | MainThread | 797016409.predict:84 - INFO -             Drug                                                                                          SMILES     preds\n",
      "0       Abanoquil                                                   COc1cc2CCN(Cc2cc1OC)c3cc(N)c4cc(OC)c(OC)cc4n3 -5.166030\n",
      "1      Adinazolam                                                       CN(C)Cc1nnc2CN=C(c3ccccc3)c4cc(Cl)ccc4n12 -4.784298\n",
      "2        AFN-1252                                               Cc1c2ccccc2oc1CN(C)C(=O)/C=C/c3cc4c(nc3)NC(=O)CC4 -4.523219\n",
      "3    AG-EE-388 ZW                                  C(c1c(cc(cc1)CC(=O)N[C@@H](CC(C)C)c1c(cccc1)N1CCCCC1)OCC)(=O)O -5.322564\n",
      "4        Ajmaline                           CC[C@@H]1[C@H](N2[C@H]3CC1C4[C@@H]2CC5([C@H]3N(c6c5cccc6)C)[C@@H]4O)O -4.955543\n",
      "..            ...                                                                                             ...       ...\n",
      "134     Verlukast                                  CN(C)C(=O)CCS[C@H](SCCC(=O)O)c1cccc(\\C=C\\c2ccc3ccc(Cl)cc3n2)c1 -5.580941\n",
      "135    Volasertib  C(=O)(c1cc(c(cc1)Nc1nc2c(cn1)N(C(=O)[C@H](N2C(C)C)CC)C)OC)N[C@H]1CC[C@@H](CC1)N1CCN(CC1)CC1CC1 -5.028721\n",
      "136   Zatebradine                                              CN(CCCN1CCc2cc(c(cc2CC1=O)OC)OC)CCc3ccc(c(c3)OC)OC -5.236280\n",
      "137    Zimelidine                                                             C(\\c1ccc(Br)cc1)(c1cccnc1)=C\\CN(C)C -4.650467\n",
      "138   Ziprasidone                                                    Clc1cc2NC(=O)Cc2cc1CCN3CCN(CC3)c4nsc5ccccc45 -4.946164\n",
      "\n",
      "[139 rows x 3 columns]\n",
      "2024-01-06 22:42:13 | 3006981774.py | MainProcess | MainThread | 3006981774.<module>:21 - INFO -        Drug                                         SMILES   caco2_preds\n",
      "0  Abanoquil  COc1cc2CCN(Cc2cc1OC)c3cc(N)c4cc(OC)c(OC)cc4n3  4.093750e-07\n",
      "2024-01-06 22:42:13 | 3006981774.py | MainProcess | MainThread | 3006981774.<module>:26 - INFO -           Drug                                                                 SMILES   cl_preds  fu_preds   caco2_preds\n",
      "0     Abanoquil                          COc1cc2CCN(Cc2cc1OC)c3cc(N)c4cc(OC)c(OC)cc4n3   6.070773  0.052535  4.093750e-07\n",
      "1    Adinazolam                              CN(C)Cc1nnc2CN=C(c3ccccc3)c4cc(Cl)ccc4n12   5.828556  0.282905  9.859453e-07\n",
      "2      AFN-1252                      Cc1c2ccccc2oc1CN(C)C(=O)/C=C/c3cc4c(nc3)NC(=O)CC4   2.502197  0.073302  1.798591e-06\n",
      "3  AG-EE-388 ZW         C(c1c(cc(cc1)CC(=O)N[C@@H](CC(C)C)c1c(cccc1)N1CCCCC1)OCC)(=O)O   2.942554  0.033100  2.854877e-07\n",
      "4      Ajmaline  CC[C@@H]1[C@H](N2[C@H]3CC1C4[C@@H]2CC5([C@H]3N(c6c5cccc6)C)[C@@H]4O)O  10.456816  0.110511  6.646734e-07\n"
     ]
    },
    {
     "name": "stdout",
     "output_type": "stream",
     "text": [
      "Saving predictions to preds/test_preds_caco2_log10_2023_06_10_22_01_2024_01_06_22_37.csv\n",
      "Elapsed time = 0:01:41\n",
      "../dataset/PK_molecule_smiles.csv\n",
      "             Drug                                                                                          SMILES     preds\n",
      "0       Abanoquil                                                   COc1cc2CCN(Cc2cc1OC)c3cc(N)c4cc(OC)c(OC)cc4n3 -5.166030\n",
      "1      Adinazolam                                                       CN(C)Cc1nnc2CN=C(c3ccccc3)c4cc(Cl)ccc4n12 -4.784298\n",
      "2        AFN-1252                                               Cc1c2ccccc2oc1CN(C)C(=O)/C=C/c3cc4c(nc3)NC(=O)CC4 -4.523219\n",
      "3    AG-EE-388 ZW                                  C(c1c(cc(cc1)CC(=O)N[C@@H](CC(C)C)c1c(cccc1)N1CCCCC1)OCC)(=O)O -5.322564\n",
      "4        Ajmaline                           CC[C@@H]1[C@H](N2[C@H]3CC1C4[C@@H]2CC5([C@H]3N(c6c5cccc6)C)[C@@H]4O)O -4.955543\n",
      "..            ...                                                                                             ...       ...\n",
      "134     Verlukast                                  CN(C)C(=O)CCS[C@H](SCCC(=O)O)c1cccc(\\C=C\\c2ccc3ccc(Cl)cc3n2)c1 -5.580941\n",
      "135    Volasertib  C(=O)(c1cc(c(cc1)Nc1nc2c(cn1)N(C(=O)[C@H](N2C(C)C)CC)C)OC)N[C@H]1CC[C@@H](CC1)N1CCN(CC1)CC1CC1 -5.028721\n",
      "136   Zatebradine                                              CN(CCCN1CCc2cc(c(cc2CC1=O)OC)OC)CCc3ccc(c(c3)OC)OC -5.236280\n",
      "137    Zimelidine                                                             C(\\c1ccc(Br)cc1)(c1cccnc1)=C\\CN(C)C -4.650467\n",
      "138   Ziprasidone                                                    Clc1cc2NC(=O)Cc2cc1CCN3CCN(CC3)c4nsc5ccccc45 -4.946164\n",
      "\n",
      "[139 rows x 3 columns]\n",
      "../dataset/PK_molecule_smiles.csv\n",
      "Index(['Drug', 'SMILES', 'cl_preds', 'fu_preds', 'caco2_preds'], dtype='object')\n",
      "         Drug                                         SMILES  cl_preds  fu_preds   caco2_preds\n",
      "0   Abanoquil  COc1cc2CCN(Cc2cc1OC)c3cc(N)c4cc(OC)c(OC)cc4n3  6.070773  0.052535  4.093750e-07\n",
      "1  Adinazolam      CN(C)Cc1nnc2CN=C(c3ccccc3)c4cc(Cl)ccc4n12  5.828556  0.282905  9.859453e-07\n"
     ]
    }
   ],
   "source": [
    "predict_data_file= \"../dataset/PK_molecule_smiles.xlsx\" ## 修改输入文件\n",
    "df_test_data = pd.read_excel(predict_data_file, engine='openpyxl')\n",
    "logger.info(df_test_data.shape)\n",
    "logger.info(df_test_data.columns)\n",
    "print(df_test_data.head(10))\n",
    "predict_data_file=predict_data_file.replace(\".xlsx\",\".csv\")\n",
    "df_test_data.to_csv(predict_data_file,index=False)\n",
    "# predict_data_file\n",
    "best_model={  \n",
    "    # \"vdss\":\"vdss_log10_32_200_rdkit_2d_normalized_2023_06_27_15_49\",\n",
    "    \"cl\":\"cl_1215_log10_32__2023_07_08_22_52\",\n",
    "     \"fu\":\"fu_log10_32_ori__2023_06_20_15_46\",\n",
    "    \"caco2\":\"caco2_log10_2023_06_10_22_01\"\n",
    "}\n",
    "df_result=pd.DataFrame()\n",
    "df_result_pk=pd.DataFrame()\n",
    "for exp_name, model_name in best_model.items():\n",
    "    print(f\"======target : {exp_name}, best model: {model_name}===========\")\n",
    "    df_result_pk=predict_pk(predict_data_file,exp_name,model_name)\n",
    "    # df_result_pk=df_result_pk.drop(columns=['level_0','index'])\n",
    "    logger.info(df_result_pk.head(1))\n",
    "    if df_result.empty:\n",
    "        df_result=df_result_pk\n",
    "    else:\n",
    "        df_result = df_result.merge(df_result_pk, on= [ 'Drug', 'SMILES'])\n",
    "    logger.info(df_result.head(5))\n",
    "\n",
    "\n",
    "print(df_result.columns)\n",
    "print(df_result.head(2))\n",
    "now_time = datetime.datetime.now()\n",
    "data_str = now_time.strftime('%Y_%m_%d_%H_%M')\n",
    "predict_result_file=\"../result/df_pred_result.csv\"\n",
    "df_result.to_csv(predict_result_file,index=False)"
   ]
  },
  {
   "cell_type": "code",
   "execution_count": null,
   "id": "2a56bab5",
   "metadata": {},
   "outputs": [],
   "source": []
  }
 ],
 "metadata": {
  "kernelspec": {
   "display_name": "pkmodel",
   "language": "python",
   "name": "pkmodel"
  },
  "language_info": {
   "codemirror_mode": {
    "name": "ipython",
    "version": 3
   },
   "file_extension": ".py",
   "mimetype": "text/x-python",
   "name": "python",
   "nbconvert_exporter": "python",
   "pygments_lexer": "ipython3",
   "version": "3.10.11"
  }
 },
 "nbformat": 4,
 "nbformat_minor": 5
}
